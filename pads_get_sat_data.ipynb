{
 "cells": [
  {
   "cell_type": "code",
   "execution_count": null,
   "metadata": {},
   "outputs": [],
   "source": [
    "# !pip install aedes"
   ]
  },
  {
   "cell_type": "code",
   "execution_count": 1,
   "metadata": {},
   "outputs": [],
   "source": []
  },
  {
   "cell_type": "code",
   "execution_count": 2,
   "metadata": {},
   "outputs": [],
   "source": [
    "import pandas as pd\n",
    "import aedes\n",
    "from aedes.remote_sensing_utils import df_to_ee_points, generate_random_ee_points\n",
    "from aedes.remote_sensing_utils import visualize_on_map, get_satellite_measures_from_points\n",
    "from aedes.automl_utils import perform_classification\n",
    "from sklearn.model_selection import train_test_split\n",
    "import joblib"
   ]
  },
  {
   "cell_type": "code",
   "execution_count": 56,
   "metadata": {},
   "outputs": [],
   "source": [
    "# Get bounding boxes\n",
    "# corn_bbox = [[[121.9104170782,16.5983135882],\n",
    "#               [122.310549019,16.5983135882],\n",
    "#               [122.310549019,17.3416019547],\n",
    "#               [121.9104170782,17.3416019547],\n",
    "#               [121.9104170782,16.5983135882]]] # Isabela, Cagayan Valley\n",
    "\n",
    "corn_bbox = [[[120.5567821572,16.8118988341],\n",
    "              [120.8984653584,16.8118988341],\n",
    "              [120.8984653584,18.3597964702],\n",
    "              [120.5567821572,18.3597964702],\n",
    "              [120.5567821572,16.8118988341]]] # ilocos region\n",
    "\n",
    "# corn_bbox = [[[124.2227947286,7.0956485805],\n",
    "#               [124.4957685044,7.0956485805],\n",
    "#               [124.4957685044,7.7634292191],\n",
    "#               [124.2227947286,7.7634292191],\n",
    "#               [124.2227947286,7.0956485805]]] # ARMM, https://psa.gov.ph/ricosit-main/corn\n",
    "\n",
    "rice_bbox = [[[120.8134002782,15.4285948282],\n",
    "              [121.2418621048,15.4285948282],\n",
    "              [121.2418621048,15.9390544231],\n",
    "              [120.8134002782,15.9390544231],\n",
    "              [120.8134002782,15.4285948282]]] # Nueva Ecija\n",
    "\n",
    "sugarcane_bbox = [[[122.9880519396,10.7109895144],\n",
    "                   [123.0360789539,10.7109895144],\n",
    "                   [123.0360789539,10.7654439068],\n",
    "                   [122.9880519396,10.7654439068],\n",
    "                   [122.9880519396,10.7109895144]]] # Bacolod Area\n",
    "\n",
    "coconut_bbox = [[[125.2337980122,7.0783490176],\n",
    "                 [125.562760219,7.0783490176],\n",
    "                 [125.562760219,7.5758566798],\n",
    "                 [125.2337980122,7.5758566798],\n",
    "                 [125.2337980122,7.0783490176]]] # Davao Region\n",
    "\n",
    "banana_bbox = [[[125.6722435834,7.2859952131],\n",
    "                [125.6906201747,7.2859952131],\n",
    "                [125.6906201747,7.309293621],\n",
    "                [125.6722435834,7.309293621],\n",
    "                [125.6722435834,7.2859952131]]]# Panabo, Davao del Norte"
   ]
  },
  {
   "cell_type": "code",
   "execution_count": 4,
   "metadata": {},
   "outputs": [],
   "source": [
    "# initialize satellite data pull\n",
    "aedes.remote_sensing_utils.initialize()"
   ]
  },
  {
   "cell_type": "code",
   "execution_count": 57,
   "metadata": {},
   "outputs": [
    {
     "name": "stdout",
     "output_type": "stream",
     "text": [
      "CPU times: user 12 s, sys: 1.26 s, total: 13.2 s\n",
      "Wall time: 29min 48s\n",
      "CPU times: user 12.3 s, sys: 1.26 s, total: 13.6 s\n",
      "Wall time: 29min 15s\n",
      "CPU times: user 12.2 s, sys: 1.34 s, total: 13.5 s\n",
      "Wall time: 30min 35s\n",
      "CPU times: user 12.3 s, sys: 1.45 s, total: 13.8 s\n",
      "Wall time: 30min 13s\n",
      "CPU times: user 12.1 s, sys: 1.23 s, total: 13.4 s\n",
      "Wall time: 29min 51s\n"
     ]
    }
   ],
   "source": [
    "# Get satellite data for each bounding box with their correspending labels\n",
    "dfs = []\n",
    "labels = ['rice', 'corn', 'sugarcane', 'coconut', 'banana']\n",
    "bboxes = [rice_bbox, corn_bbox, sugarcane_bbox, coconut_bbox, banana_bbox]\n",
    "for i in list(range(len(labels))):\n",
    "    aoi = bboxes[i]\n",
    "    points = generate_random_ee_points(aoi, sample_points=300)\n",
    "    %time df = get_satellite_measures_from_points(points, aoi, date_from='2022-01-01', date_to='2022-01-31')\n",
    "    df['label'] = labels[i]\n",
    "    dfs.append(df)"
   ]
  },
  {
   "cell_type": "code",
   "execution_count": 58,
   "metadata": {},
   "outputs": [],
   "source": [
    "# Concatenate all dfs\n",
    "full_df = pd.concat(dfs)"
   ]
  },
  {
   "cell_type": "code",
   "execution_count": 7,
   "metadata": {},
   "outputs": [],
   "source": [
    "# Save data\n",
    "full_df.to_csv('data/pads_satellite_agriculture_data.csv', index=False)"
   ]
  },
  {
   "cell_type": "code",
   "execution_count": 59,
   "metadata": {},
   "outputs": [],
   "source": [
    "# Set features and target\n",
    "features = ['ndvi', 'fapar', 'ndbi', 'ndwi', 'ndmi', 'aerosol',\n",
    "       'surface_temperature', 'precipitation_rate', 'relative_humidity']\n",
    "\n",
    "target = 'label'\n",
    "X = full_df[features]\n",
    "y = full_df[target]"
   ]
  },
  {
   "cell_type": "code",
   "execution_count": 60,
   "metadata": {},
   "outputs": [
    {
     "data": {
      "text/plain": [
       "(1500, 9)"
      ]
     },
     "execution_count": 60,
     "metadata": {},
     "output_type": "execute_result"
    }
   ],
   "source": [
    "X.shape"
   ]
  },
  {
   "cell_type": "code",
   "execution_count": 61,
   "metadata": {},
   "outputs": [
    {
     "data": {
      "text/plain": [
       "ndvi                   87\n",
       "fapar                   0\n",
       "ndbi                   87\n",
       "ndwi                   87\n",
       "ndmi                   87\n",
       "aerosol                 0\n",
       "surface_temperature     1\n",
       "precipitation_rate      2\n",
       "relative_humidity       2\n",
       "dtype: int64"
      ]
     },
     "execution_count": 61,
     "metadata": {},
     "output_type": "execute_result"
    }
   ],
   "source": [
    "X.isna().sum()"
   ]
  },
  {
   "cell_type": "code",
   "execution_count": 62,
   "metadata": {},
   "outputs": [],
   "source": [
    "full_nonnull_df = full_df.dropna()\n",
    "X_nonnull = full_nonnull_df[features]\n",
    "y_nonnull = full_nonnull_df[target]"
   ]
  },
  {
   "cell_type": "code",
   "execution_count": 63,
   "metadata": {},
   "outputs": [],
   "source": [
    "# Train test split\n",
    "X_train, X_test, y_train, y_test = train_test_split(\n",
    "    X_nonnull, y_nonnull, test_size=0.3, random_state=42)"
   ]
  },
  {
   "cell_type": "code",
   "execution_count": 64,
   "metadata": {},
   "outputs": [
    {
     "data": {
      "text/plain": [
       "coconut      92\n",
       "banana       91\n",
       "sugarcane    91\n",
       "rice         83\n",
       "corn         67\n",
       "Name: label, dtype: int64"
      ]
     },
     "execution_count": 64,
     "metadata": {},
     "output_type": "execute_result"
    }
   ],
   "source": [
    "y_test.value_counts()"
   ]
  },
  {
   "cell_type": "code",
   "execution_count": 65,
   "metadata": {},
   "outputs": [
    {
     "data": {
      "application/vnd.jupyter.widget-view+json": {
       "model_id": "37ede4b37e79436984d1bab3ce6dd5b8",
       "version_major": 2,
       "version_minor": 0
      },
      "text/plain": [
       "HBox(children=(HTML(value='Optimization Progress'), FloatProgress(value=0.0, max=50.0), HTML(value='')))"
      ]
     },
     "metadata": {},
     "output_type": "display_data"
    },
    {
     "name": "stdout",
     "output_type": "stream",
     "text": [
      "\n",
      "Generation 1 - Current best internal CV score: 0.9806873610974908\n",
      "\n",
      "Generation 2 - Current best internal CV score: 0.9806873610974908\n",
      "\n",
      "Generation 3 - Current best internal CV score: 0.980713769985367\n",
      "\n",
      "Generation 4 - Current best internal CV score: 0.9929000608860209\n",
      "\n",
      "Generation 5 - Current best internal CV score: 0.9939031003340402\n",
      "\n",
      "Generation 6 - Current best internal CV score: 0.9939031003340402\n",
      "\n",
      "Generation 7 - Current best internal CV score: 0.9939031003340402\n",
      "\n",
      "Generation 8 - Current best internal CV score: 0.9939031003340402\n",
      "\n",
      "Generation 9 - Current best internal CV score: 0.9939031003340402\n",
      "\n",
      "Generation 10 - Current best internal CV score: 0.9949182699513605\n",
      "\n",
      "Generation 11 - Current best internal CV score: 0.9949182699513605\n",
      "\n",
      "Generation 12 - Current best internal CV score: 0.9949194943031149\n",
      "\n",
      "Generation 13 - Current best internal CV score: 0.9949194943031149\n",
      "\n",
      "Generation 14 - Current best internal CV score: 0.9959346639204352\n",
      "\n",
      "Generation 15 - Current best internal CV score: 0.9969631189554352\n",
      "\n",
      "Generation 16 - Current best internal CV score: 0.9969631189554352\n",
      "\n",
      "Generation 17 - Current best internal CV score: 0.9969631189554352\n",
      "\n",
      "Generation 18 - Current best internal CV score: 0.9969631189554352\n",
      "\n",
      "Generation 19 - Current best internal CV score: 0.9969631189554352\n",
      "\n",
      "Generation 20 - Current best internal CV score: 0.9969631189554352\n",
      "\n",
      "Best pipeline: ExtraTreesClassifier(MinMaxScaler(input_matrix), bootstrap=False, criterion=entropy, max_features=0.55, min_samples_leaf=1, min_samples_split=3, n_estimators=100)\n",
      "Best model pickle file and best model pipeline saved to the same directory as this code.\n"
     ]
    },
    {
     "data": {
      "image/png": "[encoded data removed]",
      "text/plain": [
       "<Figure size 1440x720 with 1 Axes>"
      ]
     },
     "metadata": {
      "needs_background": "light"
     },
     "output_type": "display_data"
    }
   ],
   "source": [
    "# Perform AutoML\n",
    "# Switch scoring model to weighted or micro for multiclass\n",
    "model, feature_imps_df = perform_classification(X_train, y_train, scoring='f1_weighted')"
   ]
  },
  {
   "cell_type": "code",
   "execution_count": 66,
   "metadata": {},
   "outputs": [],
   "source": [
    "# Get predictions on unseen data\n",
    "y_pred = model.predict(X_test)"
   ]
  },
  {
   "cell_type": "code",
   "execution_count": 67,
   "metadata": {},
   "outputs": [
    {
     "name": "stdout",
     "output_type": "stream",
     "text": [
      "              precision    recall  f1-score   support\n",
      "\n",
      "      banana       1.00      1.00      1.00        91\n",
      "     coconut       1.00      1.00      1.00        92\n",
      "        corn       0.99      1.00      0.99        67\n",
      "        rice       1.00      0.99      0.99        83\n",
      "   sugarcane       1.00      1.00      1.00        91\n",
      "\n",
      "    accuracy                           1.00       424\n",
      "   macro avg       1.00      1.00      1.00       424\n",
      "weighted avg       1.00      1.00      1.00       424\n",
      "\n"
     ]
    }
   ],
   "source": [
    "from sklearn.metrics import classification_report\n",
    "print(classification_report(y_test, y_pred))"
   ]
  },
  {
   "cell_type": "code",
   "execution_count": 35,
   "metadata": {},
   "outputs": [],
   "source": [
    "# Get model accuracy\n",
    "# model.score(y_test, y_pred)"
   ]
  },
  {
   "cell_type": "code",
   "execution_count": 36,
   "metadata": {},
   "outputs": [
    {
     "data": {
      "text/plain": [
       "['model/pads_model.pkl']"
      ]
     },
     "execution_count": 36,
     "metadata": {},
     "output_type": "execute_result"
    }
   ],
   "source": [
    "# Save model as pickle file\n",
    "joblib.dump(model, 'model/pads_model.pkl')"
   ]
  },
  {
   "cell_type": "code",
   "execution_count": 51,
   "metadata": {},
   "outputs": [
    {
     "name": "stdout",
     "output_type": "stream",
     "text": [
      "CPU times: user 12.7 s, sys: 1.87 s, total: 14.5 s\n",
      "Wall time: 32min 52s\n",
      "CPU times: user 12.1 s, sys: 1.48 s, total: 13.5 s\n",
      "Wall time: 32min 37s\n",
      "CPU times: user 12.1 s, sys: 1.47 s, total: 13.5 s\n",
      "Wall time: 34min 2s\n",
      "CPU times: user 12 s, sys: 1.35 s, total: 13.3 s\n",
      "Wall time: 33min 11s\n",
      "CPU times: user 12.4 s, sys: 1.41 s, total: 13.8 s\n",
      "Wall time: 28min 37s\n",
      "CPU times: user 12.5 s, sys: 1.62 s, total: 14.1 s\n",
      "Wall time: 31min 3s\n",
      "CPU times: user 12.5 s, sys: 1.37 s, total: 13.9 s\n",
      "Wall time: 33min 5s\n",
      "CPU times: user 12.1 s, sys: 1.34 s, total: 13.4 s\n",
      "Wall time: 31min 45s\n",
      "CPU times: user 12.1 s, sys: 1.53 s, total: 13.6 s\n",
      "Wall time: 32min 6s\n",
      "CPU times: user 11.9 s, sys: 1.4 s, total: 13.3 s\n",
      "Wall time: 30min 12s\n"
     ]
    }
   ],
   "source": [
    "# Get predictions for another set of points from bounding boxes\n",
    "# new_area = [[[122.9880519396,10.7109895144],\n",
    "#                    [123.0360789539,10.7109895144],\n",
    "#                    [123.0360789539,10.7654439068],\n",
    "#                    [122.9880519396,10.7654439068],\n",
    "#                    [122.9880519396,10.7109895144]]] # Bacolod Area\n",
    "\n",
    "new_area = corn_bbox\n",
    "\n",
    "northern_mindanao_bbox = [[[124.4182312062,7.7469144156],\n",
    "            [125.2243423035,7.7469144156],\n",
    "            [125.2243423035,8.4136629661],\n",
    "            [124.4182312062,8.4136629661],\n",
    "            [124.4182312062,7.7469144156]]] # Northern Mindanao, Cagayan De Oro Area\n",
    "\n",
    "southern_mindanao_bbox = [[[124.3021773866,6.1353270024],\n",
    "            [125.3388243487,6.1353270024],\n",
    "            [125.3388243487,6.5593429042],\n",
    "            [124.3021773866,6.5593429042],\n",
    "            [124.3021773866,6.1353270024]]] # Souther Mindanao, Koronadal Area\n",
    "\n",
    "northern_negros_bbox = [[[122.9258321246,10.3045953428],\n",
    "                         [123.3155946454,10.3045953428],\n",
    "                         [123.3155946454,10.6213613777],\n",
    "                         [122.9258321246,10.6213613777],\n",
    "                         [122.9258321246,10.3045953428]]] # northern negros\n",
    "\n",
    "southern_negros_bbox = [[[122.9246412238,9.1380548206],\n",
    "                         [123.2162000259,9.1380548206],\n",
    "                         [123.2162000259,9.4729839157],\n",
    "                         [122.9246412238,9.4729839157],\n",
    "                         [122.9246412238,9.1380548206]]] # southern negros, dumaguete area\n",
    "\n",
    "northern_luzon_bbox = [[[120.7035879172,14.8311826122],\n",
    "                        [121.4887241401,14.8311826122],\n",
    "                        [121.4887241401,18.4651462379],\n",
    "                        [120.7035879172,18.4651462379],\n",
    "                        [120.7035879172,14.8311826122]]] # northern luzon area\n",
    "\n",
    "new_dfs = []\n",
    "new_bboxes = [northern_mindanao_bbox, southern_mindanao_bbox, \n",
    "              northern_negros_bbox, southern_negros_bbox, \n",
    "              northern_luzon_bbox] + bboxes\n",
    "\n",
    "for i in list(range(len(new_bboxes))):\n",
    "    aoi = new_bboxes[i]\n",
    "    points = generate_random_ee_points(aoi, sample_points=300)\n",
    "    %time new_df = get_satellite_measures_from_points(points, aoi, date_from='2022-01-01', date_to='2022-01-31')\n",
    "    nonnull_new_df = new_df.dropna()\n",
    "    nonnull_new_df['predicted_labels'] = model.predict(nonnull_new_df[features])\n",
    "    new_dfs.append(nonnull_new_df)"
   ]
  },
  {
   "cell_type": "code",
   "execution_count": 52,
   "metadata": {},
   "outputs": [],
   "source": [
    "full_new_df = pd.concat(new_dfs)"
   ]
  },
  {
   "cell_type": "code",
   "execution_count": 53,
   "metadata": {},
   "outputs": [
    {
     "data": {
      "text/plain": [
       "(2123, 14)"
      ]
     },
     "execution_count": 53,
     "metadata": {},
     "output_type": "execute_result"
    }
   ],
   "source": [
    "full_new_df.shape"
   ]
  },
  {
   "cell_type": "code",
   "execution_count": 54,
   "metadata": {},
   "outputs": [
    {
     "data": {
      "text/plain": [
       "sugarcane    839\n",
       "rice         412\n",
       "coconut      330\n",
       "banana       303\n",
       "corn         239\n",
       "Name: predicted_labels, dtype: int64"
      ]
     },
     "execution_count": 54,
     "metadata": {},
     "output_type": "execute_result"
    }
   ],
   "source": [
    "full_new_df.predicted_labels.value_counts()"
   ]
  },
  {
   "cell_type": "code",
   "execution_count": 55,
   "metadata": {},
   "outputs": [],
   "source": [
    "full_new_df.to_csv(\"data/pads_satellite_agriculture_predicted_crop_diversity.csv\", index=False)"
   ]
  }
 ],
 "metadata": {
  "kernelspec": {
   "display_name": "Python 3",
   "language": "python",
   "name": "python3"
  },
  "language_info": {
   "codemirror_mode": {
    "name": "ipython",
    "version": 3
   },
   "file_extension": ".py",
   "mimetype": "text/x-python",
   "name": "python",
   "nbconvert_exporter": "python",
   "pygments_lexer": "ipython3",
   "version": "3.8.5"
  }
 },
 "nbformat": 4,
 "nbformat_minor": 4
}
